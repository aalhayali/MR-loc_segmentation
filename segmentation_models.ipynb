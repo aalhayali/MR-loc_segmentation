{
 "cells": [
  {
   "cell_type": "code",
   "execution_count": 1,
   "id": "8f3c9d63",
   "metadata": {},
   "outputs": [],
   "source": [
    "import os\n",
    "import numpy as np\n",
    "import matplotlib.pyplot as plt\n",
    "import random\n",
    "import torch\n",
    "import pandas as pd\n",
    "import nibabel as nib\n",
    "import segmentation_models_pytorch as smp\n",
    "import copy\n",
    "import time\n",
    "import torchvision.models as models\n",
    "from tqdm import tqdm\n",
    "import cv2\n",
    "from sklearn.model_selection import train_test_split\n",
    "import albumentations as albu\n",
    "from sklearn.metrics import roc_auc_score, precision_score, recall_score, f1_score, confusion_matrix"
   ]
  },
  {
   "cell_type": "code",
   "execution_count": 2,
   "id": "3c845296",
   "metadata": {},
   "outputs": [],
   "source": [
    "def get_data():\n",
    "    \n",
    "    df = pd.read_csv('Rectal gas project.csv')\n",
    "    files_images = os.listdir('images')\n",
    "    files_mask = os.listdir('GT')\n",
    "\n",
    "    X = np.zeros((211, 512, 512, 7), dtype='float32')\n",
    "    X_masks = np.zeros((211, 512, 512, 7), dtype='float32')\n",
    "    Y = np.zeros((211,), dtype='uint8')\n",
    "\n",
    "    index = 0\n",
    "    for i in tqdm(range(len(files_images))):\n",
    "\n",
    "        img = nib.load(f'images/M{i+1}.nii').get_fdata()\n",
    "        mask = nib.load(f'GT/M{i+1}SEG.nii').get_fdata()\n",
    "        \n",
    "        if img.shape != (7, 512, 512):\n",
    "            if img.shape == (512, 512, 7):\n",
    "                X[index] = img\n",
    "                X_masks[index] = mask\n",
    "                index += 1\n",
    "            continue\n",
    "        \n",
    "        X[index] = np.moveaxis(img, 0, -1)\n",
    "        X_masks[index] = np.moveaxis(mask, 0, -1)\n",
    "            \n",
    "        name = f'M{i+1}'\n",
    "        Y[index] = int(df.loc[df['Case'] == name]['Rectal content'])\n",
    "        index += 1\n",
    "    return X, X_masks, Y"
   ]
  },
  {
   "cell_type": "code",
   "execution_count": 3,
   "id": "e2f67949",
   "metadata": {},
   "outputs": [
    {
     "name": "stderr",
     "output_type": "stream",
     "text": [
      "100%|██████████| 213/213 [00:21<00:00, 10.14it/s]\n"
     ]
    }
   ],
   "source": [
    "images, masks, labels = get_data()"
   ]
  },
  {
   "cell_type": "code",
   "execution_count": 4,
   "id": "fcf9428a",
   "metadata": {},
   "outputs": [],
   "source": [
    "images = np.moveaxis(images, -1, 1)\n",
    "images = images/np.max(images)\n",
    "images = images*(images > 0)\n",
    "\n",
    "masks = np.moveaxis(masks, -1, 1)\n",
    "masks = (masks>0).astype('float32')"
   ]
  },
  {
   "cell_type": "code",
   "execution_count": 5,
   "id": "d81e2041",
   "metadata": {},
   "outputs": [],
   "source": [
    "images_train, images_test, masks_train, masks_test, labels_train, labels_test = train_test_split(images, masks, labels, test_size=0.3, random_state=42)"
   ]
  },
  {
   "cell_type": "code",
   "execution_count": 6,
   "id": "fa1e00b6",
   "metadata": {},
   "outputs": [],
   "source": [
    "masks = np.concatenate((masks_train, masks_test), axis=0)\n",
    "images = np.concatenate((images_train, images_test), axis=0)\n",
    "labels = np.concatenate((labels_train, labels_test), axis=0)"
   ]
  },
  {
   "cell_type": "code",
   "execution_count": 7,
   "id": "09f6af03",
   "metadata": {},
   "outputs": [],
   "source": [
    "def dice_coef(y_true, y_pred):\n",
    "    smooth = 1e-6\n",
    "    y_true_f = torch.flatten(y_true)\n",
    "    y_pred_f = torch.flatten(y_pred)\n",
    "    intersection = torch.sum(y_true_f * y_pred_f)\n",
    "    return (2.*intersection + smooth)/(torch.sum(y_true_f) + torch.sum(y_pred_f) + smooth)"
   ]
  },
  {
   "cell_type": "code",
   "execution_count": 8,
   "id": "f15967af",
   "metadata": {},
   "outputs": [],
   "source": [
    "def get_dice_score(file, model, device='cuda'):\n",
    "    \n",
    "    model.load_state_dict(torch.load(file))\n",
    "    model = model.to(device)\n",
    "    masks_pred_train = np.zeros((images_train.shape[0], 7, 512, 512))\n",
    "    masks_pred_test = np.zeros((images_test.shape[0], 7, 512, 512))\n",
    "\n",
    "    for i in tqdm(range(images_train.shape[0])):\n",
    "        outputs = model(torch.Tensor(images_train[i]).unsqueeze(1).to(device))\n",
    "        outputs = outputs.squeeze(1)\n",
    "        outputs = outputs.detach().cpu().numpy()\n",
    "        outputs = (outputs > 0.5).astype('float32')\n",
    "        masks_pred_train[i] = outputs\n",
    "\n",
    "    for i in tqdm(range(images_test.shape[0])):\n",
    "        outputs = model(torch.Tensor(images_test[i]).unsqueeze(1).to(device))\n",
    "        outputs = outputs.squeeze(1)\n",
    "        outputs = outputs.detach().cpu().numpy()\n",
    "        outputs = (outputs > 0.5).astype('float32')\n",
    "        masks_pred_test[i] = outputs\n",
    "\n",
    "    \n",
    "    masks_pred = np.concatenate((masks_pred_train, masks_pred_test), axis=0)\n",
    "    \n",
    "    dice_train = dice_coef(torch.Tensor(masks_train), torch.Tensor(masks_pred_train))\n",
    "    print(f'Train Dice Score: {dice_train}')\n",
    "\n",
    "    dice_test = dice_coef(torch.Tensor(masks_test), torch.Tensor(masks_pred_test))\n",
    "    print(f'Test Dice Score: {dice_test}')\n",
    "\n",
    "    dice_total = dice_coef(torch.Tensor(masks), torch.Tensor(masks_pred))\n",
    "    print(f'Total Dice Score: {dice_total}')"
   ]
  },
  {
   "cell_type": "markdown",
   "id": "afdb5c18",
   "metadata": {},
   "source": [
    "# Get Dice Scores from all the trained models"
   ]
  },
  {
   "cell_type": "code",
   "execution_count": 9,
   "id": "d32adc2a",
   "metadata": {},
   "outputs": [
    {
     "name": "stderr",
     "output_type": "stream",
     "text": [
      "100%|██████████| 147/147 [00:25<00:00,  5.80it/s]\n",
      "100%|██████████| 64/64 [00:11<00:00,  5.70it/s]\n"
     ]
    },
    {
     "name": "stdout",
     "output_type": "stream",
     "text": [
      "Train Dice Score: 0.9392305016517639\n",
      "Test Dice Score: 0.8405038714408875\n",
      "Total Dice Score: 0.9089540243148804\n"
     ]
    }
   ],
   "source": [
    "# Unet++ Resnet34 Imagenet\n",
    "\n",
    "file = 'unetplusplus_mri_loc_resnet34_imagenet_1.pt'\n",
    "ENCODER = 'resnet34'\n",
    "ENCODER_WEIGHTS = 'imagenet'\n",
    "CLASSES = ['tissue']\n",
    "ACTIVATION = 'sigmoid'\n",
    "\n",
    "model = smp.UnetPlusPlus(\n",
    "    encoder_name=ENCODER, \n",
    "    encoder_weights=ENCODER_WEIGHTS, \n",
    "    classes=len(CLASSES), \n",
    "    activation=ACTIVATION,\n",
    "    in_channels=1,\n",
    "    encoder_depth=5\n",
    ")\n",
    "\n",
    "get_dice_score(file, model)"
   ]
  },
  {
   "cell_type": "code",
   "execution_count": 10,
   "id": "a34bc948",
   "metadata": {},
   "outputs": [
    {
     "name": "stderr",
     "output_type": "stream",
     "text": [
      "100%|██████████| 147/147 [00:18<00:00,  7.90it/s]\n",
      "100%|██████████| 64/64 [00:08<00:00,  7.96it/s]\n"
     ]
    },
    {
     "name": "stdout",
     "output_type": "stream",
     "text": [
      "Train Dice Score: 0.9169445037841797\n",
      "Test Dice Score: 0.8408658504486084\n",
      "Total Dice Score: 0.8935545682907104\n"
     ]
    }
   ],
   "source": [
    "# Unet Resnet50 Imagenet\n",
    "\n",
    "file = 'unet_mri_loc_resnet50_imagenet_1.pt'\n",
    "ENCODER = 'resnet50'\n",
    "ENCODER_WEIGHTS = 'imagenet'\n",
    "CLASSES = ['tissue']\n",
    "ACTIVATION = 'sigmoid'\n",
    "\n",
    "model = smp.Unet(\n",
    "    encoder_name=ENCODER, \n",
    "    encoder_weights=ENCODER_WEIGHTS, \n",
    "    classes=len(CLASSES), \n",
    "    activation=ACTIVATION,\n",
    "    in_channels=1,\n",
    "    encoder_depth=5\n",
    ")\n",
    "\n",
    "get_dice_score(file, model)"
   ]
  },
  {
   "cell_type": "code",
   "execution_count": 11,
   "id": "532bb0e2",
   "metadata": {},
   "outputs": [
    {
     "name": "stderr",
     "output_type": "stream",
     "text": [
      "100%|██████████| 147/147 [00:12<00:00, 11.59it/s]\n",
      "100%|██████████| 64/64 [00:05<00:00, 11.81it/s]\n"
     ]
    },
    {
     "name": "stdout",
     "output_type": "stream",
     "text": [
      "Train Dice Score: 0.883194088935852\n",
      "Test Dice Score: 0.8270816802978516\n",
      "Total Dice Score: 0.865754246711731\n"
     ]
    }
   ],
   "source": [
    "# Unet Resnet34 Without Imagenet\n",
    "\n",
    "file = 'unet_mri_loc_resnet34_1.pt'\n",
    "ENCODER = 'resnet34'\n",
    "ENCODER_WEIGHTS = None\n",
    "CLASSES = ['tissue']\n",
    "ACTIVATION = 'sigmoid'\n",
    "\n",
    "model = smp.Unet(\n",
    "    encoder_name=ENCODER, \n",
    "    encoder_weights=ENCODER_WEIGHTS, \n",
    "    classes=len(CLASSES), \n",
    "    activation=ACTIVATION,\n",
    "    in_channels=1\n",
    ")\n",
    "\n",
    "get_dice_score(file, model)"
   ]
  },
  {
   "cell_type": "code",
   "execution_count": 12,
   "id": "279457a6",
   "metadata": {},
   "outputs": [
    {
     "name": "stderr",
     "output_type": "stream",
     "text": [
      "100%|██████████| 147/147 [00:12<00:00, 11.79it/s]\n",
      "100%|██████████| 64/64 [00:05<00:00, 11.60it/s]\n"
     ]
    },
    {
     "name": "stdout",
     "output_type": "stream",
     "text": [
      "Train Dice Score: 0.880196213722229\n",
      "Test Dice Score: 0.8410815596580505\n",
      "Total Dice Score: 0.8681454062461853\n"
     ]
    }
   ],
   "source": [
    "# Unet Resnet34 With Imagenet 1\n",
    "\n",
    "file = 'unet_mri_loc_resnet34_imagenet_1.pt'\n",
    "ENCODER_WEIGHTS = 'imagenet'\n",
    "ENCODER = 'resnet34'\n",
    "CLASSES = ['tissue']\n",
    "ACTIVATION = 'sigmoid'\n",
    "\n",
    "model = smp.Unet(\n",
    "    encoder_name=ENCODER, \n",
    "    encoder_weights=ENCODER_WEIGHTS, \n",
    "    classes=len(CLASSES), \n",
    "    activation=ACTIVATION,\n",
    "    in_channels=1\n",
    ")\n",
    "\n",
    "get_dice_score(file, model)"
   ]
  },
  {
   "cell_type": "code",
   "execution_count": 13,
   "id": "e14fd095",
   "metadata": {},
   "outputs": [
    {
     "name": "stderr",
     "output_type": "stream",
     "text": [
      "100%|██████████| 147/147 [00:12<00:00, 11.71it/s]\n",
      "100%|██████████| 64/64 [00:05<00:00, 11.79it/s]\n"
     ]
    },
    {
     "name": "stdout",
     "output_type": "stream",
     "text": [
      "Train Dice Score: 0.927670955657959\n",
      "Test Dice Score: 0.8499149084091187\n",
      "Total Dice Score: 0.9037346243858337\n"
     ]
    }
   ],
   "source": [
    "# Unet Resnet34 With Imagenet 2\n",
    "\n",
    "file = 'unet_mri_loc_resnet34_imagenet_2.pt'\n",
    "ENCODER = 'resnet34'\n",
    "ENCODER_WEIGHTS = 'imagenet'\n",
    "CLASSES = ['tissue']\n",
    "ACTIVATION = 'sigmoid'\n",
    "\n",
    "model = smp.Unet(\n",
    "    encoder_name=ENCODER, \n",
    "    encoder_weights=ENCODER_WEIGHTS, \n",
    "    classes=len(CLASSES), \n",
    "    activation=ACTIVATION,\n",
    "    in_channels=1\n",
    ")\n",
    "\n",
    "get_dice_score(file, model)"
   ]
  },
  {
   "cell_type": "code",
   "execution_count": 14,
   "id": "3bc7881e",
   "metadata": {},
   "outputs": [
    {
     "name": "stderr",
     "output_type": "stream",
     "text": [
      "100%|██████████| 147/147 [00:26<00:00,  5.45it/s]\n",
      "100%|██████████| 64/64 [00:12<00:00,  5.30it/s]\n"
     ]
    },
    {
     "name": "stdout",
     "output_type": "stream",
     "text": [
      "Train Dice Score: 0.8750020265579224\n",
      "Test Dice Score: 0.8394221067428589\n",
      "Total Dice Score: 0.864011287689209\n"
     ]
    }
   ],
   "source": [
    "# Unet VGG16 With Imagenet 1\n",
    "\n",
    "file = 'unet_mri_loc_vgg16_imagenet_1.pt'\n",
    "ENCODER = 'vgg16'\n",
    "ENCODER_WEIGHTS = 'imagenet'\n",
    "CLASSES = ['tissue']\n",
    "ACTIVATION = 'sigmoid'\n",
    "\n",
    "model = smp.Unet(\n",
    "    encoder_name=ENCODER, \n",
    "    encoder_weights=ENCODER_WEIGHTS, \n",
    "    classes=len(CLASSES), \n",
    "    activation=ACTIVATION,\n",
    "    in_channels=1\n",
    ")\n",
    "\n",
    "get_dice_score(file, model)"
   ]
  },
  {
   "cell_type": "code",
   "execution_count": 15,
   "id": "eac0c9cf",
   "metadata": {},
   "outputs": [
    {
     "name": "stderr",
     "output_type": "stream",
     "text": [
      "100%|██████████| 147/147 [00:26<00:00,  5.46it/s]\n",
      "100%|██████████| 64/64 [00:11<00:00,  5.34it/s]\n"
     ]
    },
    {
     "name": "stdout",
     "output_type": "stream",
     "text": [
      "Train Dice Score: 0.9085118770599365\n",
      "Test Dice Score: 0.8359131813049316\n",
      "Total Dice Score: 0.8858718276023865\n"
     ]
    }
   ],
   "source": [
    "# Unet VGG16 With Imagenet 2\n",
    "\n",
    "file = 'unet_mri_loc_vgg16_imagenet_2.pt'\n",
    "ENCODER = 'vgg16'\n",
    "ENCODER_WEIGHTS = 'imagenet'\n",
    "CLASSES = ['tissue']\n",
    "ACTIVATION = 'sigmoid'\n",
    "\n",
    "model = smp.Unet(\n",
    "    encoder_name=ENCODER, \n",
    "    encoder_weights=ENCODER_WEIGHTS, \n",
    "    classes=len(CLASSES), \n",
    "    activation=ACTIVATION,\n",
    "    in_channels=1\n",
    ")\n",
    "\n",
    "get_dice_score(file, model)"
   ]
  }
 ],
 "metadata": {
  "kernelspec": {
   "display_name": "Python 3",
   "language": "python",
   "name": "python3"
  },
  "language_info": {
   "codemirror_mode": {
    "name": "ipython",
    "version": 3
   },
   "file_extension": ".py",
   "mimetype": "text/x-python",
   "name": "python",
   "nbconvert_exporter": "python",
   "pygments_lexer": "ipython3",
   "version": "3.7.10"
  }
 },
 "nbformat": 4,
 "nbformat_minor": 5
}
