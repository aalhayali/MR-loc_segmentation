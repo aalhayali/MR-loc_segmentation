{
 "cells": [
  {
   "cell_type": "code",
   "execution_count": null,
   "id": "ddac3a8e",
   "metadata": {},
   "outputs": [],
   "source": [
    "import os\n",
    "import pydicom\n",
    "import numpy as np\n",
    "import matplotlib.pyplot as plt\n",
    "import random\n",
    "import torch\n",
    "from sklearn.model_selection import train_test_split\n",
    "from albumentations import Rotate, HorizontalFlip, VerticalFlip, Affine\n",
    "import albumentations as albu\n",
    "from torch import nn\n",
    "from torchsummary import summary\n",
    "import pandas as pd\n",
    "import nibabel as nib\n",
    "import segmentation_models_pytorch as smp\n",
    "import copy\n",
    "import time\n",
    "from tqdm import tqdm\n",
    "import cv2"
   ]
  },
  {
   "cell_type": "markdown",
   "id": "451faca1",
   "metadata": {},
   "source": [
    "# Data Handling"
   ]
  },
  {
   "cell_type": "code",
   "execution_count": null,
   "id": "54346e2f",
   "metadata": {},
   "outputs": [],
   "source": [
    "def get_data():\n",
    "    files_images = os.listdir('images')\n",
    "    files_mask = os.listdir('GT')\n",
    "\n",
    "    X = np.zeros((211, 512, 512, 7), dtype='float32')\n",
    "    Y = np.zeros((211, 512, 512, 7), dtype='float32')\n",
    "\n",
    "    index = 0\n",
    "    for i in tqdm(range(len(files_images))):\n",
    "        img = nib.load(f'images/M{i+1}.nii').get_fdata()\n",
    "        mask = nib.load(f'GT/M{i+1}SEG.nii').get_fdata()\n",
    "        \n",
    "        if img.shape != (7, 512, 512):\n",
    "            if img.shape == (512, 512, 7):\n",
    "                X[index] = img\n",
    "                Y[index] = mask\n",
    "                index += 1\n",
    "            continue\n",
    "        \n",
    "        X[index] = np.moveaxis(img, 0, -1)\n",
    "        Y[index] = np.moveaxis(mask, 0, -1)\n",
    "\n",
    "        index += 1\n",
    "    return X, Y"
   ]
  },
  {
   "cell_type": "code",
   "execution_count": null,
   "id": "6e6710a8",
   "metadata": {},
   "outputs": [],
   "source": [
    "X, Y = get_data()\n",
    "X = X/np.max(X)\n",
    "X = X * (X > 0)\n",
    "\n",
    "Y = (Y > 0).astype('float32')"
   ]
  },
  {
   "cell_type": "code",
   "execution_count": null,
   "id": "7dce4767",
   "metadata": {},
   "outputs": [],
   "source": [
    "X_train, X_test, Y_train, Y_test = train_test_split(X, Y, test_size=0.3, random_state=42)"
   ]
  },
  {
   "cell_type": "markdown",
   "id": "1618cf9b",
   "metadata": {},
   "source": [
    "# Util Functions"
   ]
  },
  {
   "cell_type": "code",
   "execution_count": null,
   "id": "bb27bd5c",
   "metadata": {},
   "outputs": [],
   "source": [
    "def get_training_augmentation():\n",
    "    train_transform = [\n",
    "        albu.Rotate(p=0.5, limit=10, border_mode=0, mask_value=0),\n",
    "        albu.HorizontalFlip(p=0.5),\n",
    "        albu.VerticalFlip(p=0.5),\n",
    "        albu.Affine(p=0.5, translate_px=20)\n",
    "    ]\n",
    "    return albu.Compose(train_transform)"
   ]
  },
  {
   "cell_type": "code",
   "execution_count": null,
   "id": "e1f7d5da",
   "metadata": {},
   "outputs": [],
   "source": [
    "class CustomTensorDataset(torch.utils.data.Dataset):\n",
    "    def __init__(self, volumes, masks, transform=None):\n",
    "        self.volumes = volumes\n",
    "        self.masks = masks\n",
    "        self.transform = transform\n",
    "\n",
    "    def __getitem__(self, index):\n",
    "        if self.transform:\n",
    "            sample = self.transform(image=self.volumes[index, :, :, :], mask=self.masks[index, :, :, :]) \n",
    "            volume = np.moveaxis(sample['image'], -1, 0)\n",
    "            mask = np.moveaxis(sample['mask'], -1, 0)\n",
    "        else:\n",
    "            volume = np.moveaxis(self.volumes[index, :, :, :], -1, 0)\n",
    "            mask = np.moveaxis(self.masks[index, :, :, :], -1, 0)\n",
    "        \n",
    "        return torch.FloatTensor(volume).unsqueeze(1), torch.FloatTensor(mask).unsqueeze(1)\n",
    "\n",
    "    def __len__(self):\n",
    "        return self.volumes.shape[0]"
   ]
  },
  {
   "cell_type": "code",
   "execution_count": null,
   "id": "adcac5ab",
   "metadata": {},
   "outputs": [],
   "source": [
    "def get_loaders(pred=False, batch_size=2):\n",
    "    if pred:\n",
    "        train_dataset = CustomTensorDataset(X_train, Y_train, transform=get_testing_augmentation())\n",
    "    else:\n",
    "        train_dataset = CustomTensorDataset(X_train, Y_train, transform=get_training_augmentation())\n",
    "\n",
    "    test_dataset = CustomTensorDataset(X_test, Y_test)    \n",
    "    \n",
    "    train_loader = torch.utils.data.DataLoader(train_dataset, batch_size=batch_size, shuffle=True, num_workers=1)\n",
    "    test_loader = torch.utils.data.DataLoader(test_dataset, batch_size=batch_size, shuffle=True, num_workers=1)\n",
    "    \n",
    "    return train_loader, test_loader"
   ]
  },
  {
   "cell_type": "code",
   "execution_count": null,
   "id": "ce8419bf",
   "metadata": {},
   "outputs": [],
   "source": [
    "def dice_coef(y_true, y_pred):\n",
    "    smooth = 1e-5\n",
    "    y_true_f = torch.flatten(y_true)\n",
    "    y_pred_f = torch.flatten(y_pred)\n",
    "    intersection = torch.sum(y_true_f * y_pred_f)\n",
    "    return (2.*intersection + smooth)/(torch.sum(y_true_f) + torch.sum(y_pred_f) + smooth)\n",
    "\n",
    "def dice_coef_loss(y_true, y_pred):\n",
    "    return 1-dice_coef(y_true, y_pred)"
   ]
  },
  {
   "cell_type": "code",
   "execution_count": null,
   "id": "d921d473",
   "metadata": {},
   "outputs": [],
   "source": [
    "def iou(y_true, y_pred):\n",
    "    smooth = 1e-5\n",
    "    y_true_f = torch.flatten(y_true)\n",
    "    y_pred_f = torch.flatten(y_pred)\n",
    "    intersection = torch.sum(y_true_f * y_pred_f)\n",
    "    return (intersection + smooth)/(torch.sum(y_true_f) + torch.sum(y_pred_f) - intersection + smooth)"
   ]
  },
  {
   "cell_type": "markdown",
   "id": "98a51317",
   "metadata": {},
   "source": [
    "# Experimenting with augmentation"
   ]
  },
  {
   "cell_type": "code",
   "execution_count": null,
   "id": "3024ae3b",
   "metadata": {},
   "outputs": [],
   "source": [
    "aug = []\n",
    "aug.append(Rotate(p=1.0, limit=30, border_mode=0, mask_value=0))\n",
    "aug.append(HorizontalFlip(p=1.0))\n",
    "aug.append(VerticalFlip(p=1.0))\n",
    "aug.append(Affine(p=1.0, translate_px=10))\n",
    "\n",
    "num_image = 0\n",
    "num_aug = 3\n",
    "\n",
    "augmented_1 = aug[num_aug](image=X[num_image], mask=Y[num_image])"
   ]
  },
  {
   "cell_type": "code",
   "execution_count": null,
   "id": "3eeebaf2",
   "metadata": {},
   "outputs": [],
   "source": [
    "fig, ax = plt.subplots(7, 4, figsize=(20, 70))\n",
    "\n",
    "for i in range(7):\n",
    "    ax[i, 0].imshow(X[num_image, :, :, i], cmap='gray')\n",
    "    ax[i, 1].imshow(augmented_1['image'][:, :, i], cmap='gray')\n",
    "    ax[i, 2].imshow(Y[num_image, :, :, i], cmap='gray')\n",
    "    ax[i, 3].imshow(augmented_1['mask'][:, :, i], cmap='gray')\n",
    "    \n",
    "    \n",
    "plt.show()"
   ]
  },
  {
   "cell_type": "code",
   "execution_count": null,
   "id": "1a9f19d2",
   "metadata": {},
   "outputs": [],
   "source": [
    "(augmented_1['image'] < 0).sum()"
   ]
  },
  {
   "cell_type": "code",
   "execution_count": null,
   "id": "772c32e2",
   "metadata": {},
   "outputs": [],
   "source": [
    "for i in range(7):\n",
    "    print(np.histogram(augmented_1['image'][:, :, i]))"
   ]
  },
  {
   "cell_type": "code",
   "execution_count": null,
   "id": "fed3c7ee",
   "metadata": {},
   "outputs": [],
   "source": [
    "for i in range(7):\n",
    "    print(np.histogram(augmented_1['image'][:, :, i]))"
   ]
  },
  {
   "cell_type": "markdown",
   "id": "77fd0805",
   "metadata": {},
   "source": [
    "# Segmentation models pytorch - library"
   ]
  },
  {
   "cell_type": "markdown",
   "id": "a65de188",
   "metadata": {},
   "source": [
    "## Unet/Unet++"
   ]
  },
  {
   "cell_type": "code",
   "execution_count": null,
   "id": "8cc55e22",
   "metadata": {},
   "outputs": [],
   "source": [
    "train_loader, test_loader = get_loaders(batch_size=1)"
   ]
  },
  {
   "cell_type": "code",
   "execution_count": null,
   "id": "6e063990",
   "metadata": {},
   "outputs": [],
   "source": [
    "ENCODER = 'resnet34'\n",
    "ENCODER_WEIGHTS = 'imagenet'\n",
    "CLASSES = ['tissue']\n",
    "ACTIVATION = 'sigmoid'\n",
    "DEVICE = 'cuda'\n",
    "\n",
    "model = smp.UnetPlusPlus(\n",
    "    encoder_name=ENCODER, \n",
    "    encoder_weights=ENCODER_WEIGHTS, \n",
    "    classes=len(CLASSES), \n",
    "    activation=ACTIVATION,\n",
    "    in_channels=1,\n",
    "    encoder_depth=5\n",
    ")"
   ]
  },
  {
   "cell_type": "code",
   "execution_count": null,
   "id": "4eae4fab",
   "metadata": {},
   "outputs": [],
   "source": [
    "print(f'The number of parameters : {sum(p.numel() for p in model.parameters())}')"
   ]
  },
  {
   "cell_type": "code",
   "execution_count": null,
   "id": "f6e90643",
   "metadata": {},
   "outputs": [],
   "source": [
    "loss = smp.utils.losses.DiceLoss()\n",
    "metrics = [\n",
    "    smp.utils.metrics.IoU(threshold=0.5),\n",
    "]\n",
    "\n",
    "optimizer = torch.optim.Adam([ \n",
    "    dict(params=model.parameters(), lr=1e-4),\n",
    "])"
   ]
  },
  {
   "cell_type": "code",
   "execution_count": null,
   "id": "8c926016",
   "metadata": {},
   "outputs": [],
   "source": [
    "train_epoch = smp.utils.train.TrainEpoch(\n",
    "    model, \n",
    "    loss=loss, \n",
    "    metrics=metrics, \n",
    "    optimizer=optimizer,\n",
    "    device=DEVICE,\n",
    "    verbose=True,\n",
    ")\n",
    "\n",
    "valid_epoch = smp.utils.train.ValidEpoch(\n",
    "    model, \n",
    "    loss=loss, \n",
    "    metrics=metrics, \n",
    "    device=DEVICE,\n",
    "    verbose=True,\n",
    ")"
   ]
  },
  {
   "cell_type": "code",
   "execution_count": null,
   "id": "d1455e97",
   "metadata": {},
   "outputs": [],
   "source": [
    "max_score = 0\n",
    "train_dice_losses = []\n",
    "train_iou_scores = []\n",
    "valid_dice_losses = []\n",
    "valid_iou_scores = []\n",
    "file = 'unetplusplus_mri_loc_resnet34_imagenet_1.pt'\n",
    "\n",
    "epochs = 100\n",
    "\n",
    "for i in range(epochs):\n",
    "    \n",
    "    print('\\nEpoch: {}'.format(i))\n",
    "    train_logs = train_epoch.run(train_loader)\n",
    "    valid_logs = valid_epoch.run(test_loader)\n",
    "    \n",
    "    train_dice_losses.append(train_logs['dice_loss'])\n",
    "    train_iou_scores.append(train_logs['iou_score'])\n",
    "    \n",
    "    valid_dice_losses.append(valid_logs['dice_loss'])\n",
    "    valid_iou_scores.append(valid_logs['iou_score'])\n",
    "    \n",
    "    if max_score < valid_logs['iou_score']:\n",
    "        max_score = valid_logs['iou_score']\n",
    "        torch.save(model.state_dict(), file)\n",
    "        print('Model saved!')\n",
    "        \n",
    "    if i == 10:\n",
    "        optimizer.param_groups[0]['lr'] = 5e-5"
   ]
  },
  {
   "cell_type": "code",
   "execution_count": null,
   "id": "9434596a",
   "metadata": {},
   "outputs": [],
   "source": [
    "torch.save(model.state_dict(), file)"
   ]
  },
  {
   "cell_type": "code",
   "execution_count": null,
   "id": "b302bc75",
   "metadata": {},
   "outputs": [],
   "source": [
    "plt.plot(train_dice_losses)\n",
    "plt.show()"
   ]
  },
  {
   "cell_type": "code",
   "execution_count": null,
   "id": "c8c1b813",
   "metadata": {},
   "outputs": [],
   "source": [
    "plt.plot(valid_dice_losses)\n",
    "plt.show()"
   ]
  },
  {
   "cell_type": "code",
   "execution_count": null,
   "id": "c2d7d46c",
   "metadata": {},
   "outputs": [],
   "source": [
    "plt.plot(train_iou_scores)\n",
    "plt.show()"
   ]
  },
  {
   "cell_type": "code",
   "execution_count": null,
   "id": "9c5b4b4d",
   "metadata": {},
   "outputs": [],
   "source": [
    "plt.plot(valid_iou_scores)\n",
    "plt.show()"
   ]
  },
  {
   "cell_type": "markdown",
   "id": "ad15c414",
   "metadata": {},
   "source": [
    "### Experiments Conducted\n",
    "\n",
    "#### UnetPlusPlus Resnet34 imagenet\n",
    "\n",
    "##### Experiment 1\n",
    "\n",
    "Initial Learning rate: 1e-4\n",
    "\n",
    "10: 5e-5\n",
    "\n",
    "100 epochs\n",
    "\n",
    "#### Unet Resnet 50 imagenet\n",
    "\n",
    "##### Experiment 1\n",
    "\n",
    "Initial Learning rate: 1e-4\n",
    "\n",
    "20: 5e-5\n",
    "\n",
    "100 epochs\n",
    "\n",
    "#### Unet Resnet 34 without imagenet\n",
    "\n",
    "##### Experiment 1\n",
    "\n",
    "Initial Learning rate: 1e-4\n",
    "\n",
    "50: 5e-5\n",
    "\n",
    "120 epochs\n",
    "\n",
    "#### Unet Resnet 34 imagenet\n",
    "\n",
    "##### Experiment 1\n",
    "\n",
    "Initial Learning rate: 1e-4\n",
    "\n",
    "100 epochs\n",
    "\n",
    "##### Experiment 2\n",
    "\n",
    "Initial Learning rate: 1e-4\n",
    "\n",
    "20: 5e-5\n",
    "\n",
    "100 epochs\n",
    "\n",
    "\n",
    "#### VGG16 imagenet\n",
    "\n",
    "##### Experiment 1\n",
    "\n",
    "Initial Learning rate: 1e-4\n",
    "\n",
    "50 epochs\n",
    "\n",
    "##### Experiment 2\n",
    "\n",
    "Initial Learning rate: 1e-4\n",
    "\n",
    "50: 5e-5\n",
    "\n",
    "100 epochs\n",
    "\n",
    "\n",
    "\n",
    "\n",
    "\n"
   ]
  }
 ],
 "metadata": {
  "kernelspec": {
   "display_name": "Python 3",
   "language": "python",
   "name": "python3"
  },
  "language_info": {
   "codemirror_mode": {
    "name": "ipython",
    "version": 3
   },
   "file_extension": ".py",
   "mimetype": "text/x-python",
   "name": "python",
   "nbconvert_exporter": "python",
   "pygments_lexer": "ipython3",
   "version": "3.7.9"
  }
 },
 "nbformat": 4,
 "nbformat_minor": 5
}
